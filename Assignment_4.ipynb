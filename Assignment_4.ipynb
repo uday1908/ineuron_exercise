{
 "cells": [
  {
   "cell_type": "code",
   "execution_count": 7,
   "metadata": {},
   "outputs": [
    {
     "name": "stdout",
     "output_type": "stream",
     "text": [
      "Enter side 1 : 3\n",
      "Enter side 2 : 4\n",
      "Enter side 3 : 5\n",
      "Side 1 is 3.0\n",
      "Side 2 is 4.0\n",
      "Side 3 is 5.0\n",
      "The area of the triangle is 6.00\n"
     ]
    }
   ],
   "source": [
    "#1.1 Write a Python Program(with class concepts) to find the area of the \n",
    "#triangle using the below  formula. \n",
    "#area = (s*(s-a)*(s-b)*(s-c)) ** 0.5 \n",
    "#Function to take the length of the sides of triangle from user should be \n",
    "#defined in the parent  class and function to calculate the area should be \n",
    "#defined in subclass. \n",
    "\n",
    "class Polygon:\n",
    "    def __init__(self, no_of_sides):\n",
    "        self.n = no_of_sides\n",
    "        self.sides = [0 for i in range(no_of_sides)]\n",
    "\n",
    "    def inputSides(self):\n",
    "        self.sides = [float(input(\"Enter side \"+str(i+1)+\" : \")) for i in range(self.n)]\n",
    "\n",
    "    def dispSides(self):\n",
    "        for i in range(self.n):\n",
    "            print(\"Side\",i+1,\"is\",self.sides[i])\n",
    "            \n",
    "class Triangle(Polygon):\n",
    "    def __init__(self):\n",
    "        Polygon.__init__(self,3)\n",
    "\n",
    "    def findArea(self):\n",
    "        a, b, c = self.sides\n",
    "        # calculate the semi-perimeter\n",
    "        s = (a + b + c) / 2\n",
    "        area = (s*(s-a)*(s-b)*(s-c)) ** 0.5\n",
    "        print('The area of the triangle is %0.2f' %area)\n",
    "        \n",
    "t = Triangle()\n",
    "t.inputSides()\n",
    "t.dispSides()\n",
    "t.findArea()\n",
    "                    \n",
    "                    \n"
   ]
  },
  {
   "cell_type": "code",
   "execution_count": 1,
   "metadata": {},
   "outputs": [
    {
     "name": "stdout",
     "output_type": "stream",
     "text": [
      "['thakur', 'pratap', 'singh', 'senger']\n"
     ]
    }
   ],
   "source": [
    "#1.2 Write a function filter_long_words() that takes a list of words \n",
    "#and an integer n and returns the list of words that are longer than n.\n",
    "\n",
    "def filter_long_words(lst1,len1):\n",
    "    ret_lst=[]\n",
    "    for i in lst1:\n",
    "        if len(i) > len1:\n",
    "            ret_lst.append(i)\n",
    "    return ret_lst\n",
    "\n",
    "a=['thakur','uday','pratap','singh','senger','ji']\n",
    "lst2 = filter_long_words(a,4)\n",
    "print(lst2)"
   ]
  },
  {
   "cell_type": "code",
   "execution_count": 4,
   "metadata": {},
   "outputs": [
    {
     "name": "stdout",
     "output_type": "stream",
     "text": [
      "[6, 4, 6, 5, 6, 2]\n"
     ]
    }
   ],
   "source": [
    "#2.1 Write a Python program using function concept that maps list of words   \n",
    "#into a list of integers representing the lengths of the corresponding words.\n",
    "def find_str_len(str1):\n",
    "    return len(str1)\n",
    "\n",
    "a=['thakur','uday','pratap','singh','senger','ji']\n",
    "len_lst = list(map(find_str_len,a))\n",
    "print(len_lst)\n"
   ]
  },
  {
   "cell_type": "code",
   "execution_count": 8,
   "metadata": {},
   "outputs": [
    {
     "name": "stdout",
     "output_type": "stream",
     "text": [
      "True\n"
     ]
    }
   ],
   "source": [
    "#2.2 Write a Python function which takes a character (i.e. a string \n",
    "#of length 1) and returns True if  it is a vowel, False otherwise. \n",
    "\n",
    "def find_vowel(str1):\n",
    "    vowel_lst=['a','e','i','o','u']\n",
    "    if vowel_lst.count(str1)== 1:\n",
    "        return True\n",
    "    else:\n",
    "        return False\n",
    "        \n",
    "vowel_check=find_vowel('o')\n",
    "print(vowel_check)"
   ]
  },
  {
   "cell_type": "code",
   "execution_count": null,
   "metadata": {},
   "outputs": [],
   "source": []
  },
  {
   "cell_type": "code",
   "execution_count": null,
   "metadata": {},
   "outputs": [],
   "source": []
  }
 ],
 "metadata": {
  "kernelspec": {
   "display_name": "Python 3",
   "language": "python",
   "name": "python3"
  },
  "language_info": {
   "codemirror_mode": {
    "name": "ipython",
    "version": 3
   },
   "file_extension": ".py",
   "mimetype": "text/x-python",
   "name": "python",
   "nbconvert_exporter": "python",
   "pygments_lexer": "ipython3",
   "version": "3.7.1"
  }
 },
 "nbformat": 4,
 "nbformat_minor": 2
}
