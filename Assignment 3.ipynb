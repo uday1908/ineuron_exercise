{
 "cells": [
  {
   "cell_type": "code",
   "execution_count": 9,
   "metadata": {},
   "outputs": [
    {
     "name": "stdout",
     "output_type": "stream",
     "text": [
      "11\n"
     ]
    }
   ],
   "source": [
    "#1.1 Write a Python Program to implement your own myreduce() function which \n",
    "#works exactly  like Python's built-in function reduce() \n",
    "def my_reduce(lst1):\n",
    "    max_find = lambda x,y:x if (x>y) else y\n",
    "    i=0\n",
    "    b=lst1[i]\n",
    "    while i<len(a):\n",
    "        b=max_find(b,lst1[i])\n",
    "        i+=1\n",
    "    return b\n",
    "\n",
    "a=[2,5,3,6,4,8,4,9,10,5,11,4]\n",
    "max_num = my_reduce(a)\n",
    "print(max_num)"
   ]
  },
  {
   "cell_type": "code",
   "execution_count": 11,
   "metadata": {},
   "outputs": [
    {
     "name": "stdout",
     "output_type": "stream",
     "text": [
      "[2, 6, 4, 8, 4, 10, 4]\n"
     ]
    }
   ],
   "source": [
    "#1.2 Write a Python program to implement your own myfilter() function which works exactly \n",
    "#like Python's built-in function filter() \n",
    "\n",
    "def my_filter(lst1):\n",
    "    lst2 = []\n",
    "    for j in lst1:\n",
    "        if j%2==0:\n",
    "            lst2.append(j)\n",
    "    return lst2\n",
    "\n",
    "\n",
    "a=[2,5,3,6,4,8,4,9,10,5,11,4]\n",
    "lst3 = my_filter(a)\n",
    "print(lst3)\n"
   ]
  },
  {
   "cell_type": "code",
   "execution_count": 12,
   "metadata": {},
   "outputs": [
    {
     "name": "stdout",
     "output_type": "stream",
     "text": [
      "[[4, 5, 6, 7], [5, 6, 7, 8]]\n"
     ]
    }
   ],
   "source": [
    "#2. Implement List comprehensions to produce the following lists.  \n",
    "matrix = [[4, 5], [5,6], [6,7], [7,8]]\n",
    "transpose = [[row[i] for row in matrix] for i in range(2)]\n",
    "print (transpose)"
   ]
  },
  {
   "cell_type": "code",
   "execution_count": 25,
   "metadata": {},
   "outputs": [
    {
     "data": {
      "text/plain": [
       "['X', 'Y', 'Z', 'XX', 'YY', 'ZZ', 'XXX', 'YYY', 'ZZZ', 'XXXX', 'YYYY', 'ZZZZ']"
      ]
     },
     "execution_count": 25,
     "metadata": {},
     "output_type": "execute_result"
    }
   ],
   "source": [
    "lst4=['X','Y','Z']\n",
    "lst5=[]\n",
    "for j in range(1,5):\n",
    "    lst5.extend([(i*j) for i in lst4])\n",
    "lst5"
   ]
  },
  {
   "cell_type": "code",
   "execution_count": 28,
   "metadata": {},
   "outputs": [
    {
     "data": {
      "text/plain": [
       "['X', 'Y', 'Z', 'XX', 'YY', 'ZZ', 'XXX', 'YYY', 'ZZZ', 'XXXX', 'YYYY', 'ZZZZ']"
      ]
     },
     "execution_count": 28,
     "metadata": {},
     "output_type": "execute_result"
    }
   ],
   "source": [
    "lst4=['X','Y','Z']\n",
    "lst5=[]\n",
    "for j in range(1,5):\n",
    "    lst5.extend([(i*j) for i in lst4])\n",
    "lst5"
   ]
  },
  {
   "cell_type": "code",
   "execution_count": 27,
   "metadata": {},
   "outputs": [
    {
     "data": {
      "text/plain": [
       "['X', 'XX', 'XXX', 'XXXX', 'Y', 'YY', 'YYY', 'YYYY', 'Z', 'ZZ', 'ZZZ', 'ZZZZ']"
      ]
     },
     "execution_count": 27,
     "metadata": {},
     "output_type": "execute_result"
    }
   ],
   "source": [
    "lst4=['X','Y','Z']\n",
    "lst5=[]\n",
    "for j in lst4:\n",
    "    lst5.extend([(j*i) for i in range(1,5)])\n",
    "lst5"
   ]
  },
  {
   "cell_type": "code",
   "execution_count": null,
   "metadata": {},
   "outputs": [],
   "source": []
  }
 ],
 "metadata": {
  "kernelspec": {
   "display_name": "Python 3",
   "language": "python",
   "name": "python3"
  },
  "language_info": {
   "codemirror_mode": {
    "name": "ipython",
    "version": 3
   },
   "file_extension": ".py",
   "mimetype": "text/x-python",
   "name": "python",
   "nbconvert_exporter": "python",
   "pygments_lexer": "ipython3",
   "version": "3.7.1"
  }
 },
 "nbformat": 4,
 "nbformat_minor": 2
}
